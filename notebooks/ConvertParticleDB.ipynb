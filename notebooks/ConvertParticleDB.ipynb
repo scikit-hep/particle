{
 "cells": [
  {
   "cell_type": "code",
   "execution_count": null,
   "metadata": {},
   "outputs": [],
   "source": [
    "import pandas as pd\n",
    "from particle.particle.convert import (get_from_pdg_extended,\n",
    "                                       get_from_pdg_mcd,\n",
    "                                       update_from_mcd)\n",
    "from particle import data"
   ]
  },
  {
   "cell_type": "markdown",
   "metadata": {},
   "source": [
    "Read in the original 2008 table (explicit skip rows for commented entries)."
   ]
  },
  {
   "cell_type": "code",
   "execution_count": null,
   "metadata": {},
   "outputs": [],
   "source": [
    "full_table = get_from_pdg_extended(data.open_text(data, 'mass_width_2008.fwf'),\n",
    "                                   [data.open_text(data, 'pdgid_to_latex.csv')],\n",
    "                                   skiprows=list(range(100)) + list(range(495,499)))"
   ]
  },
  {
   "cell_type": "markdown",
   "metadata": {},
   "source": [
    "Saving the table."
   ]
  },
  {
   "cell_type": "code",
   "execution_count": null,
   "metadata": {},
   "outputs": [],
   "source": [
    "full_table.to_csv('particle2008.csv', float_format='%.12g')"
   ]
  },
  {
   "cell_type": "markdown",
   "metadata": {},
   "source": [
    "Let's load and *update* the values from the most recent PDG."
   ]
  },
  {
   "cell_type": "code",
   "execution_count": null,
   "metadata": {},
   "outputs": [],
   "source": [
    "ext_table = get_from_pdg_mcd(data.open_text(data, 'mass_width_2018.mcd'))\n",
    "new_table = update_from_mcd(full_table, ext_table)"
   ]
  },
  {
   "cell_type": "code",
   "execution_count": null,
   "metadata": {},
   "outputs": [],
   "source": [
    "new_table.to_csv('particle2018.csv', float_format='%.12g')"
   ]
  },
  {
   "cell_type": "markdown",
   "metadata": {},
   "source": [
    "These are the particles missing from the old file (and therefore missing in the combined version as well)"
   ]
  },
  {
   "cell_type": "code",
   "execution_count": null,
   "metadata": {},
   "outputs": [],
   "source": [
    "rem = set(ext_table.index) - set(full_table.index)\n",
    "ext_table.loc[rem].sort_index()"
   ]
  },
  {
   "cell_type": "markdown",
   "metadata": {},
   "source": [
    "### Old checks (columns now removed)"
   ]
  },
  {
   "cell_type": "markdown",
   "metadata": {},
   "source": [
    "Buggy PDG result on K_s and K_l (J now removed)"
   ]
  },
  {
   "cell_type": "code",
   "execution_count": null,
   "metadata": {},
   "outputs": [],
   "source": [
    "#for item in full_table.index:\n",
    "#    value = full_table.loc[item,'J']\n",
    "#    if '?' not in value and 'or' not in value:\n",
    "#        result = eval(value) == (PDGID(item).J-1)/2\n",
    "#        if not result:\n",
    "#            print(f\"{item:11} {float(eval(value))} {(PDGID(item).J-1)/2}\")"
   ]
  },
  {
   "cell_type": "markdown",
   "metadata": {},
   "source": [
    "PDG result is better for charge, so that is now removed too"
   ]
  },
  {
   "cell_type": "code",
   "execution_count": null,
   "metadata": {},
   "outputs": [],
   "source": [
    "#for item in ab.index:\n",
    "#    value = ab.loc[item,'Charge']\n",
    "#    result = value == PDGID(item).charge\n",
    "#    if not result:\n",
    "#        print(f\"{item:11} {value} {PDGID(item).charge}\")"
   ]
  }
 ],
 "metadata": {
  "kernelspec": {
   "display_name": "Python 3",
   "language": "python",
   "name": "python3"
  },
  "language_info": {
   "codemirror_mode": {
    "name": "ipython",
    "version": 3
   },
   "file_extension": ".py",
   "mimetype": "text/x-python",
   "name": "python",
   "nbconvert_exporter": "python",
   "pygments_lexer": "ipython3",
   "version": "3.7.2"
  }
 },
 "nbformat": 4,
 "nbformat_minor": 2
}
