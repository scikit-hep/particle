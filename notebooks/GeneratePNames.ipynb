{
 "cells": [
  {
   "cell_type": "code",
   "execution_count": null,
   "metadata": {},
   "outputs": [],
   "source": [
    "from particle.particle.convert import get_from_pdg_mcd\n",
    "from particle.particle.utilities import programmatic_name\n",
    "from particle import data\n",
    "from particle import PDGID\n",
    "import numpy as np\n",
    "import pandas as pd"
   ]
  },
  {
   "cell_type": "code",
   "execution_count": null,
   "metadata": {},
   "outputs": [],
   "source": [
    "mass_width = data.open_text(data, 'mass_width_2019.mcd')\n",
    "table = get_from_pdg_mcd(mass_width)\n",
    "\n",
    "del table['Mass'], table['MassUpper'], table['MassLower'], table['Width'], table['WidthUpper'], table['WidthLower']\n",
    "table.Name = table.Name.apply(programmatic_name)\n",
    "\n",
    "pp = table.charge == '++'\n",
    "p = table.charge == '+'\n",
    "o = table.charge == '0'\n",
    "m = table.charge == '-'\n",
    "baryons = table.apply(lambda x: PDGID(x.name).is_baryon, axis=1)\n",
    "\n",
    "pp_inv = table[pp].copy()\n",
    "pp_inv.Name = pp_inv.Name + '_minusminus'\n",
    "pp_inv.charge = '--'\n",
    "pp_inv.index *= -1\n",
    "\n",
    "p_inv = table[p].copy()\n",
    "p_inv.Name.where(~baryons[p], p_inv.Name + '_bar', inplace=True)\n",
    "p_inv.Name = p_inv.Name + '_minus'\n",
    "p_inv.charge = '-'\n",
    "p_inv.index *= -1\n",
    "\n",
    "o_inv = table[o].copy()\n",
    "o_inv.Name = o_inv.Name + '_bar_0'\n",
    "o_inv.charge = '0'\n",
    "o_inv.index *= -1\n",
    "\n",
    "m_inv = table[m].copy()\n",
    "m_inv.Name.where(~baryons[m], m_inv.Name + '_bar', inplace=True)\n",
    "m_inv.Name = m_inv.Name + '_plus'\n",
    "m_inv.charge = '+'\n",
    "m_inv.index *= -1\n",
    "\n",
    "table.Name.where(~o, table.Name + '_0', inplace=True)\n",
    "table.Name.where(~m, table.Name + '_minus', inplace=True)\n",
    "table.Name.where(~p, table.Name + '_plus', inplace=True)\n",
    "table.Name.where(~pp, table.Name + '_plusplus', inplace=True)\n",
    "\n",
    "table = pd.concat([table, pp_inv, p_inv, o_inv, m_inv])"
   ]
  },
  {
   "cell_type": "code",
   "execution_count": null,
   "metadata": {},
   "outputs": [],
   "source": [
    "stable = table.sort_values(by='Name')\n",
    "stable.head()"
   ]
  },
  {
   "cell_type": "code",
   "execution_count": null,
   "metadata": {},
   "outputs": [],
   "source": [
    "len(set(table.Name)), len(table.Name)"
   ]
  },
  {
   "cell_type": "code",
   "execution_count": null,
   "metadata": {},
   "outputs": [],
   "source": [
    "vs = np.asarray(stable.iloc[1:].Name) == np.asarray(stable.iloc[:-1].Name)"
   ]
  },
  {
   "cell_type": "code",
   "execution_count": null,
   "metadata": {},
   "outputs": [],
   "source": [
    "paired = np.concatenate([vs, [False]]) | np.concatenate([[False], vs])"
   ]
  },
  {
   "cell_type": "code",
   "execution_count": null,
   "metadata": {},
   "outputs": [],
   "source": [
    "stable[paired]"
   ]
  },
  {
   "cell_type": "code",
   "execution_count": null,
   "metadata": {},
   "outputs": [],
   "source": [
    "table['tmp'] = abs(table.index - .25)\n",
    "table.sort_values(by='tmp', inplace=True)\n",
    "del table['tmp']"
   ]
  },
  {
   "cell_type": "code",
   "execution_count": null,
   "metadata": {},
   "outputs": [],
   "source": [
    "for pdgid, item in table.Name.iteritems():\n",
    "    print('{item:20}= {pdgid},'.format(item=item, pdgid=pdgid))"
   ]
  },
  {
   "cell_type": "code",
   "execution_count": null,
   "metadata": {},
   "outputs": [],
   "source": []
  }
 ],
 "metadata": {
  "kernelspec": {
   "display_name": "Python 3",
   "language": "python",
   "name": "python3"
  },
  "language_info": {
   "codemirror_mode": {
    "name": "ipython",
    "version": 3
   },
   "file_extension": ".py",
   "mimetype": "text/x-python",
   "name": "python",
   "nbconvert_exporter": "python",
   "pygments_lexer": "ipython3",
   "version": "3.7.2"
  }
 },
 "nbformat": 4,
 "nbformat_minor": 2
}
